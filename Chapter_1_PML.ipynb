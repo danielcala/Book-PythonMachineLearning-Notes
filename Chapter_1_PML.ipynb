{
 "cells": [
  {
   "cell_type": "markdown",
   "metadata": {},
   "source": [
    "# **Capitulo 1** - Dar a los ordenadores el poder de aprender de los datos\n",
    "\n",
    "## Tipos de Aprendizaje Automatico:\n",
    "\n",
    "1. **Aprendizaje Supervisado**:\n",
    "    1. Datos etiquetados\n",
    "    2. Feedback directo\n",
    "    3. Predicción de resultados futuros\n",
    "2. **Aprendizaje No Supervisado**:\n",
    "    1. Sin etiquetas en los datos\n",
    "    2. Sin Feedback\n",
    "    3. Encontrar estructuras complejas en los datos\n",
    "3. **Aprendizaje Reforzado**:\n",
    "    1. Proceso de decisión\n",
    "    2. Sistema de recompensa\n",
    "    3. Aprender serie de acciones\n",
    "\n",
    "\n"
   ]
  },
  {
   "cell_type": "markdown",
   "metadata": {},
   "source": [
    "# Aprendizaje Supervisado\n",
    "\n",
    "En el aprendizaje supervisado, el objetivo es obtener o entrenar un modelo basado en información etiquetada. Esto implica la necesidad de contar con un historial de datos correctamente etiquetados, como, por ejemplo, miles de correos, cada uno marcado adecuadamente como deseado o no deseado. Una vez que se dispone de los datos y sus etiquetas correctas, la máquina busca parámetros de una función matemática que, al ingresar un correo sin etiqueta, sea capaz de decidir correctamente si se trata de un correo deseado o no deseado.\n",
    "\n",
    "El ejemplo anterior, relacionado con correos deseados y no deseados, se conoce como modelos de clasificación, en los cuales se asigna una etiqueta que no corresponde a un número continuo. \n",
    "\n",
    "Tambien existen modelos de regrsión, donde no se busca clasificar sino predecir un numero continuo, un ejemplo muy comun es predecir el valor de una vivienda basado en diferentes parametros como numero de habitaciones, numero de baños, estrato socio-economico, ubicación, etc.\n",
    "\n"
   ]
  },
  {
   "cell_type": "markdown",
   "metadata": {},
   "source": [
    "# Aprendizaje No Supervisado\n",
    "\n",
    "El en aprendizaje no supervisado de busca encontrar patrones complejos o estructuras en datos desconocidos, acá a diferencia del aprendizaje supervisado, no sabemos la respuesta correcta. Existen dos tipos de aprendizaje no supervisado, clasificacion no supervisada o reducción de dimensionalidad. \n",
    "\n",
    "En la clasificación no supervisada se busca que el modelo divida las instancias en diferentes grupos, teniendo en cuenta los atributos de entrada, esto lo hace identificando similitudes y dividiendo basado en esas reglas o estructuras encontradas. \n",
    "\n",
    "La reduccion de dimensionalidad se utiliza cuando una sola instancia tiene muchas medidas, y no se entiende muy bien cuales son los atributos que más afectan a la predicción, o simplemente queremos reducir dimensionalidad perdiendo la menor cantidad de información posible para posteriormente mejorar la eficiencia, exactitud y otras medidas de otros modelos,"
   ]
  },
  {
   "cell_type": "markdown",
   "metadata": {},
   "source": [
    "# Aprendizaje Reforsado\n",
    "\n",
    "Muchas veces se confunde con aprendizaje supervisado, esto debido a que se conoce cierta información del resultado correcto, sin embargo, la diferencia es que mas que encontrar un resultado particular, queremos que la maquina encuentre las acciones optimas para maximizar o minizar un indicador objetivo.\n",
    "\n",
    "En este tipo de aprendizaje se establece un sistema de recompensas que castiga cuando la accion y la decisión de la maquina no es optima y premia cuando lo es, brindando información que posteriormente la maquina aprende para ejecutar una accion o cumplir un objetivo mucho más rápido. Un ejemplo podría ser un video juego donde dos equipos son controlados por una maquina diferente y juegan a las escondidas. Es sorprendente como a través de tiempo vemos a la maquina ejecutar una tarea mas rapido o con mejor calidad."
   ]
  },
  {
   "cell_type": "markdown",
   "metadata": {},
   "source": [
    "# Preparación Python en Mac (macOS)\n",
    "\n",
    "Los paquetes necesarios para todos los ejercicios del libro son:\n",
    "- Pandas\n",
    "- Numpy\n",
    "- SciPy\n",
    "- Matplotlib\n",
    "- Scikit-Learn\n",
    "\n",
    "Para verificar que los tienes instalados ejecuta el siguiente bloque de código con Python, si un error ocurre seguramente es por que no los tienes instalados"
   ]
  },
  {
   "cell_type": "code",
   "execution_count": 4,
   "metadata": {},
   "outputs": [],
   "source": [
    "import pandas as pd\n",
    "import numpy as np \n",
    "import scipy\n",
    "import matplotlib\n",
    "import sklearn\n"
   ]
  },
  {
   "cell_type": "markdown",
   "metadata": {},
   "source": [
    "# Instalación para Mac\n",
    "\n",
    "Primero debes instalar Python dependiendo de tu sistema operativo, en este caso usaremos Mac. \n",
    "\n",
    "1. Instala Python en el sitio oficial de Python (https://www.python.org)\n",
    "2. Asegurate de tener Python y pip correctamente instalado, ejecuta estos 2 comandos en tu terminal de Mac\n",
    "\n",
    "    <pre><code>python3 --version</code></pre>\n",
    "    <pre><code>pip3 --version</code></pre>\n",
    "\n",
    "3. Actualiza pip3 para evitar errores en la instalación \n",
    "\n",
    "    <pre><code>pip3 install --upgrade pip</code></pre>\n",
    "\n",
    "4. Instala el paquete que requieres instalar\n",
    "\n",
    "    <pre><code>pip3 install pandas</code></pre>\n",
    "    <pre><code>pip3 install numpy</code></pre>\n",
    "    <pre><code>pip3 install scipy</code></pre>\n",
    "    <pre><code>pip3 install matplotlib</code></pre>\n",
    "    <pre><code>pip3 install scikit-lear</code></pre>\n",
    "\n",
    "5. Vuelve a correr el bloque anterior de código usando Python para comprobar que no existen errores\n",
    "\n"
   ]
  }
 ],
 "metadata": {
  "kernelspec": {
   "display_name": "Python 3",
   "language": "python",
   "name": "python3"
  },
  "language_info": {
   "codemirror_mode": {
    "name": "ipython",
    "version": 3
   },
   "file_extension": ".py",
   "mimetype": "text/x-python",
   "name": "python",
   "nbconvert_exporter": "python",
   "pygments_lexer": "ipython3",
   "version": "3.12.1"
  }
 },
 "nbformat": 4,
 "nbformat_minor": 2
}
